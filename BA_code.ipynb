{
 "cells": [
  {
   "cell_type": "markdown",
   "metadata": {},
   "source": [
    "@Christian Baun<br>\n",
    "bachelor project<br>\n",
    "DIKU, UCPH<br>\n",
    "May-August 2019"
   ]
  },
  {
   "cell_type": "code",
   "execution_count": 1,
   "metadata": {},
   "outputs": [],
   "source": [
    "# imports \n"
   ]
  },
  {
   "cell_type": "code",
   "execution_count": null,
   "metadata": {},
   "outputs": [],
   "source": [
    "\n",
    "    "
   ]
  },
  {
   "cell_type": "markdown",
   "metadata": {},
   "source": [
    "# Signal Mocker"
   ]
  },
  {
   "cell_type": "code",
   "execution_count": 4,
   "metadata": {},
   "outputs": [
    {
     "name": "stdout",
     "output_type": "stream",
     "text": [
      "line lenght \t= 91\n",
      "payload lenght \t= 71\n",
      "!AIVDM,1,1,,B,53R6dW400001=N3SSK5=0U8UB0tJ05@Pu<00000t2PQ735d076@E23lp000000000000000,2*53\n",
      "\n",
      "line lenght \t= 91\n",
      "payload lenght \t= 71\n",
      "!AIVDM,1,1,,B,53P<jbDGvaHS8HE3N21@4pT61B2222222222221J3h44440Ht0000000000000000000000,2*38\n",
      "\n",
      "line lenght \t= 91\n",
      "payload lenght \t= 71\n",
      "!AIVDM,1,1,,B,54WeVB40?EB5`<5WF20<u84j0U<h4pB22222220U38g686L609@CU2@QDp8888888888880,2*6A\n",
      "\n",
      "line lenght \t= 91\n",
      "payload lenght \t= 71\n",
      "!AIVDM,1,1,,B,54hdS:00?Hq9`<ts<00h4AV0<Q8U=@Tp4000000U4hH586`D0:0hD810BC0000000000000,2*4D\n",
      "\n",
      "line lenght \t= 91\n",
      "payload lenght \t= 71\n",
      "!AIVDM,1,1,,B,54i5I000?@UE`<<;P00ltq@d4`0000000000000U4@d674OSN8hCU2@QDh0000000000000,2*15\n",
      "\n",
      "line lenght \t= 91\n",
      "payload lenght \t= 71\n",
      "!AIVDM,1,1,,B,54hfDL02AGNI`=Q?T00@Th85800000000000000U88e884000?0CU2@QDh0000000000000,2*1F\n",
      "\n",
      "line lenght \t= 91\n",
      "payload lenght \t= 71\n",
      "!AIVDM,1,1,,A,53b>N`02>iB=09U8000`EA=A8D4l000000000016:0:?04mA0:E21DlhC3kRBj@00000000,2*1F\n",
      "\n",
      "line lenght \t= 91\n",
      "payload lenght \t= 71\n",
      "!AIVDM,1,1,,B,56t`?>40?FDd7MPR220<tq=@Dhh5@Ttr2222220U6pI<14iW0;0CU2@QDp8888888888880,2*64\n",
      "\n"
     ]
    }
   ],
   "source": [
    "import serial \n",
    "import io\n",
    "import sys\n",
    "import time\n",
    "import re\n",
    "\n",
    "from unittest.mock import MagicMock\n",
    "\n",
    "import serial.tools.list_ports\n",
    "\n",
    "# SOURCE: https://maker.pro/pic/tutorial/introduction-to-python-serial-ports\n",
    "ports = serial.tools.list_ports.comports()\n",
    "mockPort = str(ports[0]).split()[0]\n",
    "serialPort = serial.Serial(port = mockPort, baudrate=38400, bytesize=8, timeout=2, stopbits=serial.STOPBITS_ONE)\n",
    "\n",
    "file = open('data/nmea-sample.txt','r') \n",
    "count = 50000\n",
    "while(count):\n",
    "    line = file.readline()\n",
    "    serialPort.write(bytes(line, 'utf-8'))\n",
    "    #time.sleep(1)\n",
    "    count -= 1\n",
    "    splt = re.split(',',line)\n",
    "    if(len(line)>85):\n",
    "        print(\"line lenght \\t=\", len(line))\n",
    "        print(\"payload lenght \\t=\", len(splt[5]))\n",
    "        print(line)\n",
    "    prev = line\n",
    "file.close()"
   ]
  },
  {
   "cell_type": "code",
   "execution_count": null,
   "metadata": {},
   "outputs": [],
   "source": []
  },
  {
   "cell_type": "code",
   "execution_count": null,
   "metadata": {},
   "outputs": [],
   "source": []
  },
  {
   "cell_type": "code",
   "execution_count": null,
   "metadata": {},
   "outputs": [],
   "source": []
  }
 ],
 "metadata": {
  "kernelspec": {
   "display_name": "Python 3",
   "language": "python",
   "name": "python3"
  },
  "language_info": {
   "codemirror_mode": {
    "name": "ipython",
    "version": 3
   },
   "file_extension": ".py",
   "mimetype": "text/x-python",
   "name": "python",
   "nbconvert_exporter": "python",
   "pygments_lexer": "ipython3",
   "version": "3.7.3"
  }
 },
 "nbformat": 4,
 "nbformat_minor": 2
}
